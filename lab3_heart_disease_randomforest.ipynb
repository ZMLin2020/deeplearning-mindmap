{
  "nbformat": 4,
  "nbformat_minor": 0,
  "metadata": {
    "colab": {
      "name": "lab3_heart_disease_randomforest.ipynb",
      "provenance": [],
      "collapsed_sections": [],
      "include_colab_link": true
    },
    "kernelspec": {
      "name": "python3",
      "display_name": "Python 3"
    }
  },
  "cells": [
    {
      "cell_type": "markdown",
      "metadata": {
        "id": "view-in-github",
        "colab_type": "text"
      },
      "source": [
        "<a href=\"https://colab.research.google.com/github/ZMLin2020/deeplearning-mindmap/blob/master/lab3_heart_disease_randomforest.ipynb\" target=\"_parent\"><img src=\"https://colab.research.google.com/assets/colab-badge.svg\" alt=\"Open In Colab\"/></a>"
      ]
    },
    {
      "cell_type": "markdown",
      "metadata": {
        "id": "puA5vAhVQkFM",
        "colab_type": "text"
      },
      "source": [
        "## 1.load data"
      ]
    },
    {
      "cell_type": "code",
      "metadata": {
        "id": "17hHIUsNRCXm",
        "colab_type": "code",
        "colab": {
          "base_uri": "https://localhost:8080/",
          "height": 35
        },
        "outputId": "9861d85e-1b93-45e2-a9c0-7d576020108a"
      },
      "source": [
        "import urllib.request\n",
        "import os\n",
        "\n",
        "url = \"https://storage.googleapis.com/applied-dl/heart.csv\"\n",
        "filepath = \"heart.csv\"\n",
        "if not os.path.isfile(filepath):\n",
        "    result = urllib.request.urlretrieve(url,filepath) #download dataset to filepath\n",
        "    print(\"download:\",result)\n",
        "else:\n",
        "    print(\"Data file already exists\")"
      ],
      "execution_count": 1,
      "outputs": [
        {
          "output_type": "stream",
          "text": [
            "download: ('heart.csv', <http.client.HTTPMessage object at 0x7f33262fe208>)\n"
          ],
          "name": "stdout"
        }
      ]
    },
    {
      "cell_type": "code",
      "metadata": {
        "id": "zBkV1roe9E2R",
        "colab_type": "code",
        "colab": {}
      },
      "source": [
        "import pandas as pd\n",
        "import numpy as np\n",
        "#load data\n",
        "df_data = pd.read_csv(filepath)"
      ],
      "execution_count": 0,
      "outputs": []
    },
    {
      "cell_type": "markdown",
      "metadata": {
        "id": "Cbr8Ib5rRLwr",
        "colab_type": "text"
      },
      "source": [
        "## 2.data preprocessing"
      ]
    },
    {
      "cell_type": "code",
      "metadata": {
        "id": "ywNKmmUt9OTd",
        "colab_type": "code",
        "colab": {}
      },
      "source": [
        "selected_cols=['age','sex','cp','trestbps','chol','fbs','restecg','thalach','exang','oldpeak','slope','ca','thal','target']  #column 'thal' has 5 value(include '1' ,'2')\n",
        "df_data = df_data[selected_cols]"
      ],
      "execution_count": 0,
      "outputs": []
    },
    {
      "cell_type": "code",
      "metadata": {
        "id": "z8FrZkA0LjmS",
        "colab_type": "code",
        "outputId": "b9f71be9-9bb1-425a-ebf4-d81f014a71cd",
        "colab": {
          "base_uri": "https://localhost:8080/",
          "height": 284
        }
      },
      "source": [
        "df_data.isnull().sum() #null detection"
      ],
      "execution_count": 6,
      "outputs": [
        {
          "output_type": "execute_result",
          "data": {
            "text/plain": [
              "age         0\n",
              "sex         0\n",
              "cp          0\n",
              "trestbps    0\n",
              "chol        0\n",
              "fbs         0\n",
              "restecg     0\n",
              "thalach     0\n",
              "exang       0\n",
              "oldpeak     0\n",
              "slope       0\n",
              "ca          0\n",
              "thal        0\n",
              "target      0\n",
              "dtype: int64"
            ]
          },
          "metadata": {
            "tags": []
          },
          "execution_count": 6
        }
      ]
    },
    {
      "cell_type": "code",
      "metadata": {
        "id": "L_o6SnOVSvRg",
        "colab_type": "code",
        "colab": {
          "base_uri": "https://localhost:8080/",
          "height": 164
        },
        "outputId": "6e1dc8b9-94d6-4cb9-e6cb-52b5dd2b0f73"
      },
      "source": [
        "df_data.describe(include=[np.object]) #object description"
      ],
      "execution_count": 7,
      "outputs": [
        {
          "output_type": "execute_result",
          "data": {
            "text/html": [
              "<div>\n",
              "<style scoped>\n",
              "    .dataframe tbody tr th:only-of-type {\n",
              "        vertical-align: middle;\n",
              "    }\n",
              "\n",
              "    .dataframe tbody tr th {\n",
              "        vertical-align: top;\n",
              "    }\n",
              "\n",
              "    .dataframe thead th {\n",
              "        text-align: right;\n",
              "    }\n",
              "</style>\n",
              "<table border=\"1\" class=\"dataframe\">\n",
              "  <thead>\n",
              "    <tr style=\"text-align: right;\">\n",
              "      <th></th>\n",
              "      <th>thal</th>\n",
              "    </tr>\n",
              "  </thead>\n",
              "  <tbody>\n",
              "    <tr>\n",
              "      <th>count</th>\n",
              "      <td>303</td>\n",
              "    </tr>\n",
              "    <tr>\n",
              "      <th>unique</th>\n",
              "      <td>5</td>\n",
              "    </tr>\n",
              "    <tr>\n",
              "      <th>top</th>\n",
              "      <td>normal</td>\n",
              "    </tr>\n",
              "    <tr>\n",
              "      <th>freq</th>\n",
              "      <td>168</td>\n",
              "    </tr>\n",
              "  </tbody>\n",
              "</table>\n",
              "</div>"
            ],
            "text/plain": [
              "          thal\n",
              "count      303\n",
              "unique       5\n",
              "top     normal\n",
              "freq       168"
            ]
          },
          "metadata": {
            "tags": []
          },
          "execution_count": 7
        }
      ]
    },
    {
      "cell_type": "code",
      "metadata": {
        "id": "8DlDqHUnLQ7C",
        "colab_type": "code",
        "colab": {}
      },
      "source": [
        "# translate string to int\n",
        "df_data['thal'] = df_data['thal'].map({'normal':1,'fixed':2,'reversible':3,'1':1,'2':2,'inf':0}).astype(int)"
      ],
      "execution_count": 0,
      "outputs": []
    },
    {
      "cell_type": "code",
      "metadata": {
        "id": "B4lyae12GEIB",
        "colab_type": "code",
        "colab": {}
      },
      "source": [
        "# split dataset\n",
        "from sklearn.model_selection import train_test_split\n",
        "from sklearn.ensemble import RandomForestClassifier\n",
        "import matplotlib.pyplot as plt\n",
        "train_x, test_x, train_y, test_y = train_test_split(df_data.drop(columns='target'),\n",
        "                                  df_data['target'],\n",
        "                                  test_size=0.2,\n",
        "                                  random_state=10)"
      ],
      "execution_count": 0,
      "outputs": []
    },
    {
      "cell_type": "markdown",
      "metadata": {
        "id": "_TygKy8JRW8n",
        "colab_type": "text"
      },
      "source": [
        "## 3.train"
      ]
    },
    {
      "cell_type": "code",
      "metadata": {
        "id": "O2kBmOCEGEkf",
        "colab_type": "code",
        "colab": {}
      },
      "source": [
        "#model: random forest\n",
        "train_score = []\n",
        "test_score = []\n",
        "\n",
        "for n in range(1, 100):\n",
        "    model = RandomForestClassifier(max_depth=5,n_estimators=n,criterion='gini')\n",
        "    model.fit(train_x, train_y)\n",
        "    train_score.append(model.score(train_x, train_y))\n",
        "    test_score.append(model.score(test_x, test_y))"
      ],
      "execution_count": 0,
      "outputs": []
    },
    {
      "cell_type": "markdown",
      "metadata": {
        "id": "6J358AfuRkFv",
        "colab_type": "text"
      },
      "source": [
        "## 4.evaluate"
      ]
    },
    {
      "cell_type": "code",
      "metadata": {
        "id": "4yzwEEFTRmkr",
        "colab_type": "code",
        "colab": {
          "base_uri": "https://localhost:8080/",
          "height": 35
        },
        "outputId": "ae0f4c9a-92df-4b99-c3ba-803f23dd11a8"
      },
      "source": [
        "print(model.score(train_x, train_y),model.score(test_x, test_y))"
      ],
      "execution_count": 12,
      "outputs": [
        {
          "output_type": "stream",
          "text": [
            "0.9421487603305785 0.8032786885245902\n"
          ],
          "name": "stdout"
        }
      ]
    },
    {
      "cell_type": "code",
      "metadata": {
        "id": "XcD5B1IsRrzg",
        "colab_type": "code",
        "colab": {
          "base_uri": "https://localhost:8080/",
          "height": 35
        },
        "outputId": "23ed80c9-6e89-4f4f-fd8e-96033b3890c8"
      },
      "source": [
        "from sklearn.metrics import confusion_matrix\n",
        "from sklearn.metrics import auc, roc_curve\n",
        "\n",
        "pred_y = model.predict(test_x)\n",
        "# Confusion matrix\n",
        "confusion_m = confusion_matrix(test_y,pred_y)\n",
        "total= confusion_m.sum()\n",
        "tpr = float(confusion_m[0][0]) / (confusion_m[0][0] + confusion_m[1][0])\n",
        "tnr = float(confusion_m[1][1]) / (confusion_m[1][1] + confusion_m[0][1])\n",
        "# recall\n",
        "print(tpr,tnr)"
      ],
      "execution_count": 13,
      "outputs": [
        {
          "output_type": "stream",
          "text": [
            "0.8863636363636364 0.5882352941176471\n"
          ],
          "name": "stdout"
        }
      ]
    },
    {
      "cell_type": "markdown",
      "metadata": {
        "id": "omQjt2a2RoPS",
        "colab_type": "text"
      },
      "source": [
        "## 5.plot"
      ]
    },
    {
      "cell_type": "code",
      "metadata": {
        "id": "3GLoM7CkG0o0",
        "colab_type": "code",
        "outputId": "d90a0b07-9c23-4714-f461-05fc228c1120",
        "colab": {
          "base_uri": "https://localhost:8080/",
          "height": 284
        }
      },
      "source": [
        "x_axis = [i for i in range(1, 100)]\n",
        "\n",
        "fig, ax = plt.subplots()\n",
        "ax.plot(x_axis, train_score[:99])\n",
        "ax.plot(x_axis, test_score[:99], c=\"r\")\n",
        "plt.xlim([0, 100])\n",
        "plt.ylim([0.0, 1.0])\n",
        "plt.rcParams['font.size'] = 12\n",
        "plt.xlabel('n_estimators')\n",
        "plt.ylabel('accuracy')\n",
        "plt.grid(True)"
      ],
      "execution_count": 14,
      "outputs": [
        {
          "output_type": "display_data",
          "data": {
            "image/png": "[encoded data removed]",
            "text/plain": [
              "<Figure size 432x288 with 1 Axes>"
            ]
          },
          "metadata": {
            "tags": [],
            "needs_background": "light"
          }
        }
      ]
    }
  ]
}